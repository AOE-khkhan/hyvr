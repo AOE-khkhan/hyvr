{
 "cells": [
  {
   "cell_type": "markdown",
   "metadata": {},
   "source": [
    "http://modflowpy.github.io/flopydoc/tutorial1.html"
   ]
  },
  {
   "cell_type": "markdown",
   "metadata": {},
   "source": [
    "## Run the tutorial"
   ]
  },
  {
   "cell_type": "code",
   "execution_count": 44,
   "metadata": {
    "collapsed": false
   },
   "outputs": [],
   "source": [
    "import os\n",
    "import flopy\n",
    "import numpy as np\n",
    "import matplotlib.pyplot as plt\n",
    "import flopy.utils.binaryfile as bf\n",
    "from hyvr import hyvr_utils as hu\n"
   ]
  },
  {
   "cell_type": "code",
   "execution_count": null,
   "metadata": {
    "collapsed": false
   },
   "outputs": [],
   "source": [
    "# Assign name and create modflow model object\n",
    "modelname = 'tutorial1'\n",
    "mf = flopy.modflow.Modflow(modelname, exe_name='mf2005')\n",
    "\n",
    "# Model domain and grid definition\n",
    "Lx = 1000.\n",
    "Ly = 1000.\n",
    "ztop = 0.\n",
    "zbot = -50.\n",
    "nlay = 1\n",
    "nrow = 10\n",
    "ncol = 10\n",
    "delr = Lx/ncol\n",
    "delc = Ly/nrow\n",
    "delv = (ztop - zbot) / nlay\n",
    "botm = np.linspace(ztop, zbot, nlay + 1)\n",
    "\n",
    "# Create the discretization object\n",
    "dis = flopy.modflow.ModflowDis(mf, nlay, nrow, ncol, delr=delr, top=ztop, botm=botm[1:])"
   ]
  },
  {
   "cell_type": "code",
   "execution_count": null,
   "metadata": {
    "collapsed": false
   },
   "outputs": [],
   "source": [
    "# Variables for the BAS package\n",
    "ibound = np.ones((nlay, nrow, ncol), dtype=np.int32)\n",
    "ibound[:, :, 0] = -1\n",
    "ibound[:, :, -1] = -1\n",
    "strt = np.ones((nlay, nrow, ncol), dtype=np.float32)\n",
    "strt[:, :, 0] = 10.\n",
    "strt[:, :, -1] = 0.\n",
    "bas = flopy.modflow.ModflowBas(mf, ibound=ibound, strt=strt)\n",
    "\n",
    "# Add LPF package to the MODFLOW model\n",
    "lpf = flopy.modflow.ModflowLpf(mf, hk=10., vka=10.)\n",
    "\n",
    "# Add OC package to the MODFLOW model\n",
    "oc = flopy.modflow.ModflowOc(mf)\n",
    "\n",
    "# Add PCG package to the MODFLOW model\n",
    "pcg = flopy.modflow.ModflowPcg(mf)\n",
    "\n",
    "# Write the MODFLOW model input files\n",
    "mf.write_input()"
   ]
  },
  {
   "cell_type": "code",
   "execution_count": null,
   "metadata": {
    "collapsed": false
   },
   "outputs": [],
   "source": [
    "# Run the MODFLOW model\n",
    "success, buff = mf.run_model()"
   ]
  },
  {
   "cell_type": "code",
   "execution_count": null,
   "metadata": {
    "collapsed": true
   },
   "outputs": [],
   "source": [
    "\n",
    "plt.subplot(1,1,1,aspect='equal')\n",
    "hds = bf.HeadFile(modelname+'.hds')\n",
    "head = hds.get_data(totim=1.0)\n",
    "levels = np.arange(1,10,1)\n",
    "extent = (delr/2., Lx - delr/2., Ly - delc/2., delc/2.)\n",
    "plt.contour(head[0, :, :], levels=levels, extent=extent)\n",
    "plt.show()"
   ]
  },
  {
   "cell_type": "markdown",
   "metadata": {
    "collapsed": true
   },
   "source": [
    "## Try with HYVR data"
   ]
  },
  {
   "cell_type": "code",
   "execution_count": 40,
   "metadata": {
    "collapsed": false
   },
   "outputs": [],
   "source": [
    "# Load parameters and HYVR simulations\n",
    "param_file = 'E:/repositories/hfm_flowtrans/runfiles/flowtrans_test/flowtrans_diptest/flowtrans_diptest_parameters.ini'\n",
    "run, model, _, _, flowtrans, _, mg = hu.model_setup(param_file)\n",
    "\n",
    "hyvr_fp = 'E:/repositories/hfm_flowtrans/runfiles/flowtrans_test/flowtrans_diptest/flowtrans_diptest.npz'\n",
    "ho = np.load(hyvr_fp)"
   ]
  },
  {
   "cell_type": "code",
   "execution_count": 45,
   "metadata": {
    "collapsed": false
   },
   "outputs": [],
   "source": [
    "# Assign name and create modflow model object\n",
    "# Create modflow output folder\n",
    "mfdir = run['modeldir'] + '/' + run['runname']  + '/modflow'\n",
    "try:\n",
    "    os.makedirs(mfdir)\n",
    "except OSError as e:\n",
    "    if e.errno != errno.EEXIST:\n",
    "        raise\n",
    "\n",
    "\n",
    "mf = flopy.modflow.Modflow(mfdir + run['runname'], exe_name='mf2005')\n",
    "\n",
    "# Model domain and grid definition\n",
    "Lx = mg.lx\n",
    "Ly = mg.ly\n",
    "ztop = mg.oz + mg.lz\n",
    "zbot = mg.oz\n",
    "nlay = mg.nz\n",
    "nrow = mg.nx\n",
    "ncol = mg.ny\n",
    "delr = Lx/ncol\n",
    "delc = Ly/nrow\n",
    "delv = (ztop - zbot) / nlay\n",
    "botm = np.linspace(ztop, zbot, nlay + 1)\n",
    "\n",
    "# Create the discretization object\n",
    "dis = flopy.modflow.ModflowDis(mf, nlay, nrow, ncol, delr=delr, top=ztop, botm=botm[1:])"
   ]
  },
  {
   "cell_type": "code",
   "execution_count": 46,
   "metadata": {
    "collapsed": false
   },
   "outputs": [
    {
     "name": "stdout",
     "output_type": "stream",
     "text": [
      "warning: assuming SpatialReference units are meters\n"
     ]
    }
   ],
   "source": [
    "# Variables for the BAS package\n",
    "ibound = np.ones((nlay, nrow, ncol), dtype=np.int32)\n",
    "ibound[:, :, 0] = -1\n",
    "ibound[:, :, -1] = -1\n",
    "\n",
    "strt = np.ones((nlay, nrow, ncol), dtype=np.float32)\n",
    "strt[:, :, 0] = flowtrans['hin'][0]\n",
    "strt[:, :, -1] = flowtrans['hout'][0]\n",
    "\n",
    "bas = flopy.modflow.ModflowBas(mf, ibound=ibound, strt=strt)\n",
    "\n",
    "# Assign hydraulic conductivity\n",
    "hyvr_hk = np.transpose(ho['k_iso'], (2, 0, 1))\n",
    "hyvr_layvka = 1                                           # VKA dataset is ratio of horizontal K\n",
    "hyvr_vka = np.transpose(ho['anirat'], (2, 0, 1))\n",
    "\n",
    "# Add LPF package to the MODFLOW model\n",
    "lpf = flopy.modflow.ModflowLpf(mf,                        # Modflow object\n",
    "                               hk = hyvr_hk,              # Horizontal hydraulic conductivity\n",
    "                               layvka = hyvr_layvka,      # Flag for each layer of anisotropic ratio\n",
    "                               vka = hyvr_vka)            # Anisotropy ratios.\n",
    "                            \n",
    "# Add OC package to the MODFLOW model\n",
    "oc = flopy.modflow.ModflowOc(mf)\n",
    "\n",
    "# Add PCG package to the MODFLOW model\n",
    "pcg = flopy.modflow.ModflowPcg(mf)\n",
    "\n",
    "# Write the MODFLOW model input files\n",
    "mf.write_input()"
   ]
  },
  {
   "cell_type": "code",
   "execution_count": 28,
   "metadata": {
    "collapsed": false
   },
   "outputs": [
    {
     "name": "stdout",
     "output_type": "stream",
     "text": [
      "FloPy is using the following executable to run the model: C:\\Program Files (x86)\\MF2005.1_12\\bin\\mf2005.exe\n",
      "\n",
      "                                  MODFLOW-2005     \n",
      "    U.S. GEOLOGICAL SURVEY MODULAR FINITE-DIFFERENCE GROUND-WATER FLOW MODEL\n",
      "                             Version 1.12.00 2/3/2017                        \n",
      "\n",
      " Using NAME file: HYVRtest.nam \n",
      " Run start date and time (yyyy/mm/dd hh:mm:ss): 2017/11/20 16:35:14\n",
      "\n",
      " Solving:  Stress period:     1    Time step:     1    Ground-Water Flow Eqn.\n",
      " Run end date and time (yyyy/mm/dd hh:mm:ss): 2017/11/20 16:35:15\n",
      " Elapsed run time:  0.575 Seconds\n",
      "\n",
      "  Normal termination of simulation\n"
     ]
    }
   ],
   "source": [
    "# Run the MODFLOW model\n",
    "success, buff = mf.run_model()"
   ]
  },
  {
   "cell_type": "code",
   "execution_count": 34,
   "metadata": {
    "collapsed": false
   },
   "outputs": [
    {
     "data": {
      "image/png": "[encoded data removed]",
      "text/plain": [
       "<matplotlib.figure.Figure at 0x9dfa240>"
      ]
     },
     "metadata": {},
     "output_type": "display_data"
    }
   ],
   "source": [
    "plt.subplot(1,1,1,aspect='equal')\n",
    "hds = bf.HeadFile(modelname+'.hds')\n",
    "head = hds.get_data(totim=1.0)\n",
    "levels = np.arange(0,1,0.1)\n",
    "extent = (delr/2., Lx - delr/2., Ly - delc/2., delc/2.)\n",
    "plt.contour(head[0, :, :], levels=levels, extent=extent)\n",
    "plt.show()"
   ]
  },
  {
   "cell_type": "code",
   "execution_count": 42,
   "metadata": {
    "collapsed": false
   },
   "outputs": [
    {
     "data": {
      "text/plain": [
       "'E:/repositories/hfm_flowtrans/runfiles/flowtrans_test/flowtrans_diptest/flowtrans_diptest/modflow'"
      ]
     },
     "execution_count": 42,
     "metadata": {},
     "output_type": "execute_result"
    }
   ],
   "source": [
    "run['modeldir'] + '/' + run['runname'] + '/modflow'"
   ]
  },
  {
   "cell_type": "code",
   "execution_count": null,
   "metadata": {
    "collapsed": true
   },
   "outputs": [],
   "source": []
  }
 ],
 "metadata": {
  "kernelspec": {
   "display_name": "venv",
   "language": "python",
   "name": "venv"
  },
  "language_info": {
   "codemirror_mode": {
    "name": "ipython",
    "version": 3
   },
   "file_extension": ".py",
   "mimetype": "text/x-python",
   "name": "python",
   "nbconvert_exporter": "python",
   "pygments_lexer": "ipython3",
   "version": "3.5.3"
  }
 },
 "nbformat": 4,
 "nbformat_minor": 0
}
